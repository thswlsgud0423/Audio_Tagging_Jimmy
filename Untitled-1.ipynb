{
 "cells": [
  {
   "cell_type": "code",
   "execution_count": null,
   "metadata": {},
   "outputs": [],
   "source": []
  },
  {
   "cell_type": "code",
   "execution_count": 3,
   "metadata": {},
   "outputs": [],
   "source": [
    "import os\n",
    "import shutil\n",
    "import urllib\n",
    "import zipfile\n",
    "import glob\n",
    "import urllib.request\n",
    "\n",
    "def download_dataset(name):\n",
    "    \"\"\"Download the dataset into current working directory.\"\"\"\n",
    "    if not os.path.exists(name):\n",
    "        os.mkdir(name)\n",
    "        urllib.request.urlretrieve('https://github.com/karoldvl/{0}/archive/master.zip'.format(name), '{0}/{0}.zip'.format(name))\n",
    "\n",
    "        with zipfile.ZipFile('{0}/{0}.zip'.format(name)) as package:\n",
    "            package.extractall('{0}/'.format(name))\n",
    "\n",
    "        os.unlink('{0}/{0}.zip'.format(name))        \n",
    "\n",
    "        for src in glob.glob('{0}/{0}-master/*'.format(name)):\n",
    "            shutil.move(src, '{0}/{1}'.format(name, os.path.basename(src)))\n",
    "\n",
    "        os.rmdir('{0}/{0}-master'.format(name))\n",
    "        \n",
    "download_dataset('ESC-10')\n",
    "download_dataset('ESC-50')"
   ]
  },
  {
   "cell_type": "markdown",
   "metadata": {},
   "source": []
  },
  {
   "cell_type": "code",
   "execution_count": null,
   "metadata": {},
   "outputs": [],
   "source": [
    "import numpy as np\n",
    "import pydub\n",
    "import librosa\n",
    "\n"
   ]
  },
  {
   "cell_type": "code",
   "execution_count": null,
   "metadata": {},
   "outputs": [],
   "source": []
  },
  {
   "cell_type": "code",
   "execution_count": null,
   "metadata": {},
   "outputs": [],
   "source": []
  },
  {
   "cell_type": "code",
   "execution_count": null,
   "metadata": {},
   "outputs": [],
   "source": []
  },
  {
   "cell_type": "code",
   "execution_count": null,
   "metadata": {},
   "outputs": [],
   "source": []
  },
  {
   "cell_type": "code",
   "execution_count": null,
   "metadata": {},
   "outputs": [],
   "source": []
  },
  {
   "cell_type": "code",
   "execution_count": null,
   "metadata": {},
   "outputs": [],
   "source": []
  }
 ],
 "metadata": {
  "kernelspec": {
   "display_name": "jimmy_coding",
   "language": "python",
   "name": "python3"
  },
  "language_info": {
   "codemirror_mode": {
    "name": "ipython",
    "version": 3
   },
   "file_extension": ".py",
   "mimetype": "text/x-python",
   "name": "python",
   "nbconvert_exporter": "python",
   "pygments_lexer": "ipython3",
   "version": "3.10.14"
  }
 },
 "nbformat": 4,
 "nbformat_minor": 2
}
