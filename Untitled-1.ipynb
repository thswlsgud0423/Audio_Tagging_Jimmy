{
 "cells": [
  {
   "cell_type": "code",
   "execution_count": null,
   "metadata": {},
   "outputs": [],
   "source": []
  },
  {
   "cell_type": "code",
   "execution_count": null,
   "metadata": {},
   "outputs": [],
   "source": [
    "import os\n",
    "from pathlib import Path\n",
    "import pandas as pd\n",
    "import librosa\n",
    "import numpy as np\n",
    "import matplotlib.pyplot as plt\n",
    "from sklearn.model_selection import train_test_split\n",
    "from sklearn.neighbors import KNeighborsClassifier\n",
    "from sklearn.ensemble import RandomForestClassifier\n",
    "from sklearn.svm import SVC\n",
    "from sklearn.metrics import accuracy_score, classification_report\n",
    "\n",
    "# file_path\n",
    "audio_path = Path(\"dataset\") / \"audio\"\n",
    "csv_path = Path(\"dataset\") / \"esc50.csv\"\n",
    "\n",
    "metadata = pd.read_csv(csv_path)"
   ]
  },
  {
   "cell_type": "code",
   "execution_count": null,
   "metadata": {},
   "outputs": [],
   "source": [
    "\n",
    "\n",
    "sr = 22050\n",
    "duration = 5 # ESC50 has 5 sec duration\n",
    "n_mfcc = 13\n",
    "n_mels = 128\n",
    "\n",
    "# Output\n",
    "mfcc_dir = Path(\"processed_data\") / \"mfcc\"\n",
    "mel_dir = Path(\"processed_data\") / \"mel_spectrogram\"\n",
    "mfcc_dir.mkdir(parents=True, exist_ok=True)\n",
    "mel_dir.mkdir(parents=True, exist_ok=True)\n",
    "\n",
    "# Function to save MFCC and Mel Spectrogram\n",
    "def save_features(audio_path, filename, sr=22050):\n",
    "    # Load audio\n",
    "    y, _ = librosa.load(audio_path, sr=sr, duration=duration)\n",
    "\n",
    "    # Compute MFCC and Mel_spectrogram\n",
    "    mfcc = librosa.feature.mfcc(y=y, sr=sr, n_mfcc=13)\n",
    "    mel_spectrogram = librosa.feature.melspectrogram(y=y, sr=sr, n_mels=n_mels)\n",
    "\n",
    "    # Save as .npy\n",
    "    np.save(f\"processed_data/mfcc/{filename}_mfcc.npy\", mfcc)\n",
    "    np.save(f\"processed_data/mel_spectrogram/{filename}_mel_spectrogram.npy\", mel_spectrogram)\n",
    "\n",
    "# Save features\n",
    "for _, row in metadata.iterrows():\n",
    "    audio_file = f\"dataset/audio/{row['filename']}\"\n",
    "    filename = row[\"filename\"].split(\".\")[0]\n",
    "    save_features(audio_file, filename)"
   ]
  },
  {
   "cell_type": "code",
   "execution_count": null,
   "metadata": {},
   "outputs": [],
   "source": [
    "# Load metadata\n",
    "metadata = pd.read_csv(\"dataset/esc50.csv\")\n",
    "\n",
    "# Function to load features and flatten them\n",
    "def load_features(feature_type=\"mfcc\"):\n",
    "    feature_dir = Path(f\"processed_data/{feature_type}\")\n",
    "    X, y = [], []\n",
    "    for _, row in metadata.iterrows():\n",
    "        class_label = row[\"category\"]\n",
    "        file_name = row[\"filename\"].split(\".\")[0]\n",
    "        \n",
    "        # Load .npy file\n",
    "        feature_path = feature_dir / f\"{file_name}_{feature_type}.npy\"\n",
    "        features = np.load(feature_path)\n",
    "        \n",
    "        # Flatten the features to 1D for simple models\n",
    "        X.append(features.flatten())\n",
    "        y.append(class_label)\n",
    "        \n",
    "    return np.array(X), np.array(y)\n",
    "\n",
    "# Load and split data for MFCC\n",
    "X_mfcc, y_mfcc = load_features(\"mfcc\")\n",
    "X_train_mfcc, X_test_mfcc, y_train_mfcc, y_test_mfcc = train_test_split(X_mfcc, y_mfcc, test_size=0.2, random_state=12)\n",
    "\n",
    "# Load and split data for Mel Spectrogram\n",
    "X_mel, y_mel = load_features(\"mel_spectrogram\")\n",
    "X_train_mel, X_test_mel, y_train_mel, y_test_mel = train_test_split(X_mel, y_mel, test_size=0.2, random_state=12)\n",
    "\n"
   ]
  },
  {
   "cell_type": "code",
   "execution_count": 27,
   "metadata": {},
   "outputs": [
    {
     "name": "stdout",
     "output_type": "stream",
     "text": [
      "\n",
      "Evaluating models for MFCC features:\n",
      "\n",
      "KNN Model Accuracy: 0.26\n",
      "Random Forest Model Accuracy: 0.37\n",
      "SVM Model Accuracy: 0.35\n",
      "\n",
      "Evaluating models for Mel Spectrogram features:\n",
      "\n",
      "KNN Model Accuracy: 0.09\n",
      "Random Forest Model Accuracy: 0.35\n",
      "SVM Model Accuracy: 0.13\n"
     ]
    }
   ],
   "source": [
    "\n",
    "# Initialize models\n",
    "knn = KNeighborsClassifier(n_neighbors=4)\n",
    "rf = RandomForestClassifier(n_estimators=100, random_state=12)\n",
    "svm = SVC(kernel=\"linear\")\n",
    "\n",
    "# Model List\n",
    "models = {\"KNN\": knn, \"Random Forest\": rf, \"SVM\": svm}\n",
    "\n",
    "# Function to train and evaluate models\n",
    "def train_and_evaluate(X_train, X_test, y_train, y_test, feature_type):\n",
    "    print(f\"\\nEvaluating models for {feature_type} features:\\n\")\n",
    "    for name, model in models.items():\n",
    "        # Train the model\n",
    "        model.fit(X_train, y_train)\n",
    "        \n",
    "        y_pred = model.predict(X_test)\n",
    "        \n",
    "        # Evaluation\n",
    "        accuracy = accuracy_score(y_test, y_pred)\n",
    "        print(f\"{name} Model Accuracy: {accuracy:.2f}\")\n",
    "\n",
    "# MFCC\n",
    "train_and_evaluate(X_train_mfcc, X_test_mfcc, y_train_mfcc, y_test_mfcc, \"MFCC\")\n",
    "\n",
    "# Mel Spectrogram\n",
    "train_and_evaluate(X_train_mel, X_test_mel, y_train_mel, y_test_mel, \"Mel Spectrogram\")\n"
   ]
  },
  {
   "cell_type": "code",
   "execution_count": null,
   "metadata": {},
   "outputs": [],
   "source": []
  },
  {
   "cell_type": "code",
   "execution_count": null,
   "metadata": {},
   "outputs": [],
   "source": []
  },
  {
   "cell_type": "code",
   "execution_count": null,
   "metadata": {},
   "outputs": [],
   "source": []
  },
  {
   "cell_type": "code",
   "execution_count": null,
   "metadata": {},
   "outputs": [],
   "source": []
  },
  {
   "cell_type": "code",
   "execution_count": null,
   "metadata": {},
   "outputs": [],
   "source": []
  },
  {
   "cell_type": "code",
   "execution_count": null,
   "metadata": {},
   "outputs": [],
   "source": []
  }
 ],
 "metadata": {
  "kernelspec": {
   "display_name": "jimmy_coding",
   "language": "python",
   "name": "python3"
  },
  "language_info": {
   "codemirror_mode": {
    "name": "ipython",
    "version": 3
   },
   "file_extension": ".py",
   "mimetype": "text/x-python",
   "name": "python",
   "nbconvert_exporter": "python",
   "pygments_lexer": "ipython3",
   "version": "3.10.14"
  }
 },
 "nbformat": 4,
 "nbformat_minor": 2
}
