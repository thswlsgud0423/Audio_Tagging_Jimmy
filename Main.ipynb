{
 "cells": [
  {
   "cell_type": "code",
   "execution_count": 1,
   "metadata": {},
   "outputs": [
    {
     "name": "stderr",
     "output_type": "stream",
     "text": [
      "c:\\Users\\jimmy\\anaconda3\\envs\\jimmy_coding\\lib\\site-packages\\tqdm\\auto.py:21: TqdmWarning: IProgress not found. Please update jupyter and ipywidgets. See https://ipywidgets.readthedocs.io/en/stable/user_install.html\n",
      "  from .autonotebook import tqdm as notebook_tqdm\n"
     ]
    }
   ],
   "source": [
    "import torch\n",
    "from torch.utils.data import Dataset, DataLoader\n",
    "import numpy as np\n",
    "import os\n",
    "from torchvision import transforms\n",
    "\n",
    "from utils import train_model, evaluate_model\n",
    "from Datasets import MelSpectrogramDataset\n",
    "# Models\n",
    "from Models import CRNN"
   ]
  },
  {
   "cell_type": "code",
   "execution_count": 2,
   "metadata": {},
   "outputs": [],
   "source": [
    "transform = transforms.Compose([\n",
    "    transforms.Lambda(lambda x: (x - np.mean(x)) / (np.std(x) + 1e-6))  # Normalize Mel spectrogram\n",
    "])\n",
    "\n",
    "train_dir = \"C:/Users/jimmy/Desktop/Practical_Work/processed_data/mel_spectrogram/train\"\n",
    "test_dir = \"C:/Users/jimmy/Desktop/Practical_Work/processed_data/mel_spectrogram/test\""
   ]
  },
  {
   "cell_type": "code",
   "execution_count": 3,
   "metadata": {},
   "outputs": [
    {
     "name": "stdout",
     "output_type": "stream",
     "text": [
      "cuda\n"
     ]
    }
   ],
   "source": [
    "train_dataset = MelSpectrogramDataset(\n",
    "    features_dir=train_dir,\n",
    "    labels_path=os.path.join(train_dir, \"labels.npy\"),\n",
    "    transform=transform\n",
    ")\n",
    "\n",
    "test_dataset = MelSpectrogramDataset(\n",
    "    features_dir=test_dir,\n",
    "    labels_path=os.path.join(test_dir, \"labels.npy\"),\n",
    "    transform=transform\n",
    ")\n",
    "\n",
    "# DataLoaders for train and test datasets\n",
    "batch_size = 32\n",
    "train_loader = DataLoader(train_dataset, batch_size=batch_size, shuffle=True)\n",
    "test_loader = DataLoader(test_dataset, batch_size=batch_size, shuffle=False)\n",
    "\n",
    "# Device configuration (GPU if available)\n",
    "device = torch.device(\"cuda\" if torch.cuda.is_available() else \"cpu\")\n",
    "print(device)"
   ]
  },
  {
   "cell_type": "markdown",
   "metadata": {},
   "source": [
    "## Models\n"
   ]
  },
  {
   "cell_type": "code",
   "execution_count": 4,
   "metadata": {},
   "outputs": [],
   "source": [
    "model = CRNN(\n",
    "    input_channels=1,\n",
    "    img_height=128,\n",
    "    img_width=216,\n",
    "    num_classes=50\n",
    ")"
   ]
  },
  {
   "cell_type": "code",
   "execution_count": 5,
   "metadata": {},
   "outputs": [
    {
     "name": "stdout",
     "output_type": "stream",
     "text": [
      "Epoch [1/100], Loss: 3.8373, Accuracy: 3.75%\n",
      "Epoch [2/100], Loss: 3.5848, Accuracy: 5.94%\n",
      "Epoch [3/100], Loss: 3.4412, Accuracy: 6.69%\n",
      "Epoch [4/100], Loss: 3.2612, Accuracy: 10.62%\n",
      "Epoch [5/100], Loss: 3.2328, Accuracy: 9.81%\n",
      "Epoch [6/100], Loss: 3.1658, Accuracy: 12.75%\n",
      "Epoch [7/100], Loss: 3.0839, Accuracy: 13.38%\n",
      "Epoch [8/100], Loss: 2.9564, Accuracy: 16.06%\n",
      "Epoch [9/100], Loss: 2.8304, Accuracy: 19.62%\n",
      "Epoch [10/100], Loss: 2.7900, Accuracy: 20.44%\n",
      "Epoch [11/100], Loss: 2.7223, Accuracy: 22.06%\n",
      "Epoch [12/100], Loss: 2.6458, Accuracy: 23.06%\n",
      "Epoch [13/100], Loss: 2.5247, Accuracy: 25.50%\n",
      "Epoch [14/100], Loss: 2.4736, Accuracy: 27.50%\n",
      "Epoch [15/100], Loss: 2.4225, Accuracy: 28.88%\n",
      "Epoch [16/100], Loss: 2.3308, Accuracy: 30.94%\n",
      "Epoch [17/100], Loss: 2.3196, Accuracy: 30.88%\n",
      "Epoch [18/100], Loss: 2.1609, Accuracy: 33.25%\n",
      "Epoch [19/100], Loss: 2.0903, Accuracy: 35.62%\n",
      "Epoch [20/100], Loss: 2.0499, Accuracy: 38.69%\n",
      "Epoch [21/100], Loss: 1.9979, Accuracy: 39.88%\n",
      "Epoch [22/100], Loss: 1.8760, Accuracy: 42.31%\n",
      "Epoch [23/100], Loss: 1.7892, Accuracy: 44.12%\n",
      "Epoch [24/100], Loss: 1.8657, Accuracy: 42.56%\n",
      "Epoch [25/100], Loss: 1.6461, Accuracy: 49.69%\n",
      "Epoch [26/100], Loss: 1.5681, Accuracy: 51.44%\n",
      "Epoch [27/100], Loss: 1.5258, Accuracy: 53.69%\n",
      "Epoch [28/100], Loss: 1.5086, Accuracy: 51.62%\n",
      "Epoch [29/100], Loss: 1.3392, Accuracy: 58.13%\n",
      "Epoch [30/100], Loss: 1.3473, Accuracy: 57.25%\n",
      "Epoch [31/100], Loss: 1.3261, Accuracy: 57.75%\n",
      "Epoch [32/100], Loss: 1.2463, Accuracy: 60.12%\n",
      "Epoch [33/100], Loss: 1.1903, Accuracy: 63.81%\n",
      "Epoch [34/100], Loss: 1.1175, Accuracy: 63.75%\n",
      "Epoch [35/100], Loss: 1.1819, Accuracy: 61.75%\n",
      "Epoch [36/100], Loss: 1.0833, Accuracy: 66.56%\n",
      "Epoch [37/100], Loss: 1.0025, Accuracy: 68.81%\n",
      "Epoch [38/100], Loss: 0.9482, Accuracy: 69.62%\n",
      "Epoch [39/100], Loss: 0.8642, Accuracy: 72.56%\n",
      "Epoch [40/100], Loss: 0.8489, Accuracy: 71.62%\n",
      "Epoch [41/100], Loss: 0.8156, Accuracy: 74.69%\n",
      "Epoch [42/100], Loss: 0.7395, Accuracy: 76.88%\n",
      "Epoch [43/100], Loss: 0.7575, Accuracy: 75.94%\n",
      "Epoch [44/100], Loss: 0.7346, Accuracy: 76.94%\n",
      "Epoch [45/100], Loss: 0.6418, Accuracy: 80.31%\n",
      "Epoch [46/100], Loss: 0.6205, Accuracy: 80.88%\n",
      "Epoch [47/100], Loss: 0.5903, Accuracy: 81.75%\n",
      "Epoch [48/100], Loss: 0.5923, Accuracy: 80.94%\n",
      "Epoch [49/100], Loss: 0.5975, Accuracy: 80.81%\n",
      "Epoch [50/100], Loss: 0.5475, Accuracy: 83.06%\n",
      "Epoch [51/100], Loss: 0.5167, Accuracy: 84.12%\n",
      "Epoch [52/100], Loss: 0.4918, Accuracy: 84.94%\n",
      "Epoch [53/100], Loss: 0.5452, Accuracy: 82.81%\n",
      "Epoch [54/100], Loss: 0.4798, Accuracy: 84.88%\n",
      "Epoch [55/100], Loss: 0.4088, Accuracy: 87.69%\n",
      "Epoch [56/100], Loss: 0.3935, Accuracy: 87.69%\n",
      "Epoch [57/100], Loss: 0.3428, Accuracy: 90.25%\n",
      "Epoch [58/100], Loss: 0.3143, Accuracy: 90.62%\n",
      "Epoch [59/100], Loss: 0.3217, Accuracy: 90.38%\n",
      "Epoch [60/100], Loss: 0.3209, Accuracy: 90.50%\n",
      "Epoch [61/100], Loss: 0.3206, Accuracy: 90.12%\n",
      "Epoch [62/100], Loss: 0.3472, Accuracy: 89.19%\n",
      "Epoch [63/100], Loss: 0.3099, Accuracy: 90.44%\n",
      "Epoch [64/100], Loss: 0.3367, Accuracy: 89.75%\n",
      "Epoch [65/100], Loss: 0.3433, Accuracy: 89.38%\n",
      "Epoch [66/100], Loss: 0.3215, Accuracy: 90.56%\n",
      "Epoch [67/100], Loss: 0.2739, Accuracy: 91.38%\n",
      "Epoch [68/100], Loss: 0.2753, Accuracy: 91.56%\n",
      "Epoch [69/100], Loss: 0.2548, Accuracy: 92.06%\n",
      "Epoch [70/100], Loss: 0.2799, Accuracy: 91.25%\n",
      "Epoch [71/100], Loss: 0.2567, Accuracy: 92.62%\n",
      "Epoch [72/100], Loss: 0.3092, Accuracy: 90.69%\n",
      "Epoch [73/100], Loss: 0.2875, Accuracy: 90.69%\n",
      "Epoch [74/100], Loss: 0.2470, Accuracy: 92.75%\n",
      "Epoch [75/100], Loss: 0.2256, Accuracy: 93.38%\n",
      "Epoch [76/100], Loss: 0.2347, Accuracy: 93.00%\n",
      "Epoch [77/100], Loss: 0.2341, Accuracy: 92.88%\n",
      "Epoch [78/100], Loss: 0.2487, Accuracy: 92.00%\n",
      "Epoch [79/100], Loss: 0.3391, Accuracy: 89.94%\n",
      "Epoch [80/100], Loss: 0.3281, Accuracy: 89.88%\n",
      "Epoch [81/100], Loss: 0.3076, Accuracy: 90.12%\n",
      "Epoch [82/100], Loss: 0.2808, Accuracy: 91.50%\n",
      "Epoch [83/100], Loss: 0.3437, Accuracy: 88.62%\n",
      "Epoch [84/100], Loss: 0.4146, Accuracy: 87.12%\n",
      "Epoch [85/100], Loss: 0.2579, Accuracy: 92.75%\n",
      "Epoch [86/100], Loss: 0.2673, Accuracy: 91.31%\n",
      "Epoch [87/100], Loss: 0.2437, Accuracy: 92.62%\n",
      "Epoch [88/100], Loss: 0.2450, Accuracy: 92.25%\n",
      "Epoch [89/100], Loss: 0.1632, Accuracy: 95.19%\n",
      "Epoch [90/100], Loss: 0.2297, Accuracy: 92.31%\n",
      "Epoch [91/100], Loss: 0.1944, Accuracy: 93.94%\n",
      "Epoch [92/100], Loss: 0.1962, Accuracy: 93.88%\n",
      "Epoch [93/100], Loss: 0.2056, Accuracy: 93.50%\n",
      "Epoch [94/100], Loss: 0.1906, Accuracy: 94.06%\n",
      "Epoch [95/100], Loss: 0.1623, Accuracy: 95.38%\n",
      "Epoch [96/100], Loss: 0.1326, Accuracy: 96.06%\n",
      "Epoch [97/100], Loss: 0.1372, Accuracy: 95.81%\n",
      "Epoch [98/100], Loss: 0.1645, Accuracy: 95.38%\n",
      "Epoch [99/100], Loss: 0.2361, Accuracy: 92.31%\n",
      "Epoch [100/100], Loss: 0.2542, Accuracy: 92.00%\n",
      "Training complete!\n",
      "Test Accuracy: 49.50%\n"
     ]
    }
   ],
   "source": [
    "# Train the model\n",
    "train_model(model, train_loader, test_loader, device, num_epochs=100)\n",
    "\n",
    "# Evaluate the model on the test set\n",
    "test_accuracy = evaluate_model(model, test_loader, device)\n",
    "print(f\"Test Accuracy: {test_accuracy:.2f}%\")\n"
   ]
  },
  {
   "cell_type": "code",
   "execution_count": null,
   "metadata": {},
   "outputs": [],
   "source": []
  },
  {
   "cell_type": "code",
   "execution_count": null,
   "metadata": {},
   "outputs": [],
   "source": []
  },
  {
   "cell_type": "code",
   "execution_count": null,
   "metadata": {},
   "outputs": [],
   "source": []
  },
  {
   "cell_type": "code",
   "execution_count": null,
   "metadata": {},
   "outputs": [],
   "source": []
  },
  {
   "cell_type": "code",
   "execution_count": null,
   "metadata": {},
   "outputs": [],
   "source": []
  }
 ],
 "metadata": {
  "kernelspec": {
   "display_name": "jimmy_coding",
   "language": "python",
   "name": "python3"
  },
  "language_info": {
   "codemirror_mode": {
    "name": "ipython",
    "version": 3
   },
   "file_extension": ".py",
   "mimetype": "text/x-python",
   "name": "python",
   "nbconvert_exporter": "python",
   "pygments_lexer": "ipython3",
   "version": "3.10.14"
  }
 },
 "nbformat": 4,
 "nbformat_minor": 2
}
